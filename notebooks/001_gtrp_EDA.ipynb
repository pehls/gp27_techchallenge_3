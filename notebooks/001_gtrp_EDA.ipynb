{
 "cells": [
  {
   "cell_type": "code",
   "execution_count": null,
   "metadata": {},
   "outputs": [],
   "source": [
    "!pip install google-auth google-auth-oauthlib google-auth-httplib2 google-cloud-bigquery"
   ]
  },
  {
   "cell_type": "code",
   "execution_count": 6,
   "metadata": {},
   "outputs": [],
   "source": [
    "!pip freeze > ..//requirements.txt"
   ]
  },
  {
   "cell_type": "code",
   "execution_count": 1,
   "metadata": {},
   "outputs": [
    {
     "data": {
      "text/html": [
       "\n",
       "            <div>\n",
       "                <p><b>SparkSession - in-memory</b></p>\n",
       "                \n",
       "        <div>\n",
       "            <p><b>SparkContext</b></p>\n",
       "\n",
       "            <p><a href=\"http://DESKTOP-1B13685:4040\">Spark UI</a></p>\n",
       "\n",
       "            <dl>\n",
       "              <dt>Version</dt>\n",
       "                <dd><code>v3.4.1</code></dd>\n",
       "              <dt>Master</dt>\n",
       "                <dd><code>local[*]</code></dd>\n",
       "              <dt>AppName</dt>\n",
       "                <dd><code>spark</code></dd>\n",
       "            </dl>\n",
       "        </div>\n",
       "        \n",
       "            </div>\n",
       "        "
      ],
      "text/plain": [
       "<pyspark.sql.session.SparkSession at 0x1c58c2a2890>"
      ]
     },
     "execution_count": 1,
     "metadata": {},
     "output_type": "execute_result"
    }
   ],
   "source": [
    "from _spark import *\n",
    "import os\n",
    "\n",
    "import findspark\n",
    "findspark.init()\n",
    "\n",
    "spark = get_spark()"
   ]
  },
  {
   "cell_type": "code",
   "execution_count": 2,
   "metadata": {},
   "outputs": [],
   "source": [
    "df = spark\\\n",
    "    .read\\\n",
    "    .option('delimiter',',')\\\n",
    "    .option('header',True)\\\n",
    "    .option('inferSchema',True)\\\n",
    "    .csv('../data/raw')"
   ]
  },
  {
   "cell_type": "code",
   "execution_count": 3,
   "metadata": {},
   "outputs": [
    {
     "name": "stdout",
     "output_type": "stream",
     "text": [
      "+----+---+-------+-------+-----+-----+-----+-----+-------+---------+-----+-----+------+-----------+------------+------+----+-----+------+------+------+----+----+----+----+-----+-----+-----+-----+-----+-----+-----+-----+-----+------+------+------+----+-----+-----+-----+-----+-----+-----+-----+-----+-----+-----+-----+-----+-----+----+----+----+----+----+----+----+----+-----+-----+-----+----+----+-----+-----+-----+-----+-----+------+------+----+----+----+-----+------+--------+-----+------+------+-----+-----+-----+------+-------+--------+------+-------+-------+----+----+----+----+----+-----+-----+-----+-----+-----+-----+--------+-----+-----+-----+--------+-----+-----+-----+-----+----+-----+-----+-----+----+\n",
      "| Ano| UF|CAPITAL|RM_RIDE|V1008|V1012|V1013|V1016|Estrato|      UPA|V1022|V1023| V1030|      V1031|       V1032|posest|A001|A001A|A001B1|A001B2|A001B3|A002|A003|A004|A005|B0011|B0012|B0013|B0014|B0015|B0016|B0017|B0018|B0019|B00110|B00111|B00112|B002|B0031|B0032|B0033|B0034|B0035|B0036|B0037|B0041|B0042|B0043|B0044|B0045|B0046|B005|B006|B007|C001|C002|C003|C004|C005|C0051|C0052|C0053|C006|C007|C007A|C007B|C007C|C007D|C007E|C007E1|C007E2|C008|C009|C010|C0101|C01011|  C01012|C0102|C01021|C01022|C0103|C0104|C011A|C011A1|C011A11| C011A12|C011A2|C011A21|C011A22|C012|C013|C014|C015|C016|C017A|D0011|D0013|D0021|D0023|D0031|   D0033|D0041|D0043|D0051|   D0053|D0061|D0063|D0071|D0073|F001|F0021|F0022|F0061|F006|\n",
      "+----+---+-------+-------+-----+-----+-----+-----+-------+---------+-----+-----+------+-----------+------------+------+----+-----+------+------+------+----+----+----+----+-----+-----+-----+-----+-----+-----+-----+-----+-----+------+------+------+----+-----+-----+-----+-----+-----+-----+-----+-----+-----+-----+-----+-----+-----+----+----+----+----+----+----+----+----+-----+-----+-----+----+----+-----+-----+-----+-----+-----+------+------+----+----+----+-----+------+--------+-----+------+------+-----+-----+-----+------+-------+--------+------+-------+-------+----+----+----+----+----+-----+-----+-----+-----+-----+-----+--------+-----+-----+-----+--------+-----+-----+-----+-----+----+-----+-----+-----+----+\n",
      "|2020| 11|     11|   null|   01|    4|   05|    1|1110011|110015970|    1|    1|152194|138.2562412|143.56274468|  1114|  01|   01|    05|    08|  1984| 035|   1|   4|   5|    1|    1|    2|    2|    1|    2|    2|    2|    2|     2|     1|     2|   2|    2|    2|    1|    2|    2|    2|    2| null| null| null| null| null| null|null|null|   1|   1|null|null|null|null| null| null| null|   2|  04| null|    1|   35|   06| null|  null|  null| 048| 048|   1|    1|    04|00001045| null|  null|  null| null| null|    1|     1|     04|00001045|  null|   null|   null|   1|null|null|null|null| null|    2| null|    2| null|    2|    null|    2| null|    1|00001200|    2| null|    2| null|   1| null| null|    1|  02|\n",
      "|2020| 11|     11|   null|   01|    4|   05|    1|1110011|110015970|    1|    1|154290|138.2562412|155.17556973|  1123|  02|   02|    18|    08|  1990| 029|   2|   4|   7|    1|    1|    2|    2|    2|    2|    2|    2|    2|     2|     1|     2|   2|    2|    2|    2|    2|    2|    2|    2| null| null| null| null| null| null|null|null|   2|   1|null|null|null|null| null| null| null|   2|  07| null| null|   34|   22| null|  null|  null| 012| 004|   1|    1|    04|00001045| null|  null|  null| null| null|    1|     1|     00|00000000|  null|   null|   null|   2|   1|   2|null|null| null|    2| null|    2| null|    2|    null|    2| null|    1|00001200|    2| null|    2| null|   1| null| null|    1|  02|\n",
      "|2020| 11|     11|   null|   01|    4|   05|    1|1110011|110015970|    1|    1|146160|138.2562412|191.78621375|  1112|  03|   04|    25|    12|  2006| 013|   1|   4|   2|    2|    2|    2|    2|    2|    2|    2|    2|    2|     2|     2|     2|null| null| null| null| null| null| null| null| null| null| null| null| null| null|null|null|   2|null|null|null|null|null| null| null| null|null|null| null| null| null| null| null|  null|  null|null|null|null| null|  null|    null| null|  null|  null| null| null| null|  null|   null|    null|  null|   null|   null|null|null|null|null|null| null|    2| null|    2| null|    2|    null|    2| null|    1|00001200|    2| null|    2| null|   1| null| null|    1|  02|\n",
      "|2020| 11|     11|   null|   01|    4|   05|    1|1110011|110015970|    1|    1|146160|138.2562412|191.78621375|  1112|  04|   04|    24|    08|  2009| 010|   1|   4|   2|    2|    2|    2|    2|    2|    2|    2|    2|    2|     2|     2|     2|null| null| null| null| null| null| null| null| null| null| null| null| null| null|null|null|   2|null|null|null|null|null| null| null| null|null|null| null| null| null| null| null|  null|  null|null|null|null| null|  null|    null| null|  null|  null| null| null| null|  null|   null|    null|  null|   null|   null|null|null|null|null|null| null|    2| null|    2| null|    2|    null|    2| null|    1|00001200|    2| null|    2| null|   1| null| null|    1|  02|\n",
      "|2020| 11|     11|   null|   03|    2|   05|    1|1110011|110015970|    1|    1| 90903|138.2562412|144.13492924|  1126|  01|   01|    25|    12|  1961| 058|   2|   2|   1|    2|    2|    2|    2|    2|    2|    2|    2|    2|     2|     2|     2|null| null| null| null| null| null| null| null| null| null| null| null| null| null|null|null|   2|   2|   2|null|null|null| null| null| null|null|null| null| null| null| null| null|  null|  null|null|null|null| null|  null|    null| null|  null|  null| null| null| null|  null|   null|    null|  null|   null|   null|null|null|   2|   2|  02|    1|    2| null|    2| null|    1|00000130|    2| null|    1|00000600|    2| null|    2| null|   1| null| null|    1|  01|\n",
      "|2020| 11|     11|   null|   03|    2|   05|    1|1110011|110015970|    1|    1|154290|138.2562412|155.17556973|  1123|  02|   05|    18|    03|  1999| 021|   2|   2|   3|    2|    2|    2|    2|    2|    2|    2|    2|    2|     2|     2|     2|null| null| null| null| null| null| null| null| null| null| null| null| null| null|null|null|   2|   1|null|null|null|null| null| null| null|   2|  01| null|    3|   01|   24| null|  null|  null| 040| 024|   1|    1|    04|00001045| null|  null|  null| null| null|    1|     1|     02|00000600|  null|   null|   null|   1|null|   2|null|null| null|    2| null|    2| null|    1|00000130|    2| null|    1|00000600|    2| null|    2| null|   1| null| null|    1|  01|\n",
      "|2020| 11|     11|   null|   03|    2|   05|    1|1110011|110015970|    1|    1|133809|138.2562412|160.80014921|  1121|  03|   10|    05|    01|  2018| 002|   2|   2|   1|    2|    2|    2|    2|    2|    2|    2|    2|    2|     2|     2|     2|null| null| null| null| null| null| null| null| null| null| null| null| null| null|null|null|   2|null|null|null|null|null| null| null| null|null|null| null| null| null| null| null|  null|  null|null|null|null| null|  null|    null| null|  null|  null| null| null| null|  null|   null|    null|  null|   null|   null|null|null|null|null|null| null|    2| null|    2| null|    1|00000130|    2| null|    1|00000600|    2| null|    2| null|   1| null| null|    1|  01|\n",
      "|2020| 11|     11|   null|   04|    4|   05|    1|1110011|110015970|    1|    1|122285|138.2562412|169.76165601|  1115|  01|   01|    18|    02|  1973| 047|   1|   4|   2|    1|    1|    2|    2|    1|    2|    2|    1|    2|     1|     2|     1|   2|    1|    2|    1|    2|    2|    2|    2| null| null| null| null| null| null|null|null|   2|   1|null|null|null|null| null| null| null|   2|  07| null| null|   18|   05| null|  null|  null| 040| 010|   1|    1|    05|00002000| null|  null|  null| null| null|    1|     1|     05|00002000|  null|   null|   null|   1|null|   2|null|null| null|    2| null|    2| null|    2|    null|    2| null|    2|    null|    2| null|    2| null|   1| null| null|    1|  01|\n",
      "|2020| 11|     11|   null|   04|    4|   05|    1|1110011|110015970|    1|    1|139963|138.2562412|155.44750627|  1122|  03|   05|    99|    99|  9999| 018|   2|   4|   2|    2|    2|    2|    2|    2|    2|    2|    2|    2|     2|     2|     2|null| null| null| null| null| null| null| null| null| null| null| null| null| null|null|null|   2|   2|   2|null|null|null| null| null| null|null|null| null| null| null| null| null|  null|  null|null|null|null| null|  null|    null| null|  null|  null| null| null| null|  null|   null|    null|  null|   null|   null|null|null|   2|   2|  07|    1|    2| null|    2| null|    2|    null|    2| null|    2|    null|    2| null|    2| null|   1| null| null|    1|  01|\n",
      "|2020| 11|     11|   null|   04|    4|   05|    1|1110011|110015970|    1|    1|146160|138.2562412|191.78621375|  1112|  06|   05|    99|    99|  9999| 011|   1|   4|   2|    2|    2|    2|    2|    2|    2|    2|    2|    2|     2|     2|     2|null| null| null| null| null| null| null| null| null| null| null| null| null| null|null|null|   2|null|null|null|null|null| null| null| null|null|null| null| null| null| null| null|  null|  null|null|null|null| null|  null|    null| null|  null|  null| null| null| null|  null|   null|    null|  null|   null|   null|null|null|null|null|null| null|    2| null|    2| null|    2|    null|    2| null|    2|    null|    2| null|    2| null|   1| null| null|    1|  01|\n",
      "|2020| 11|     11|   null|   04|    4|   05|    1|1110011|110015970|    1|    1|133809|138.2562412|160.80014921|  1121|  08|   05|    99|    99|  9999| 009|   2|   4|   2|    2|    2|    2|    2|    2|    2|    2|    2|    2|     2|     2|     2|null| null| null| null| null| null| null| null| null| null| null| null| null| null|null|null|   2|null|null|null|null|null| null| null| null|null|null| null| null| null| null| null|  null|  null|null|null|null| null|  null|    null| null|  null|  null| null| null| null|  null|   null|    null|  null|   null|   null|null|null|null|null|null| null|    2| null|    2| null|    2|    null|    2| null|    2|    null|    2| null|    2| null|   1| null| null|    1|  01|\n",
      "|2020| 11|     11|   null|   04|    4|   05|    1|1110011|110015970|    1|    1|146160|138.2562412|191.78621375|  1112|  07|   05|    99|    99|  9999| 010|   1|   4|   2|    2|    2|    2|    2|    2|    2|    2|    2|    2|     2|     2|     2|null| null| null| null| null| null| null| null| null| null| null| null| null| null|null|null|   2|null|null|null|null|null| null| null| null|null|null| null| null| null| null| null|  null|  null|null|null|null| null|  null|    null| null|  null|  null| null| null| null|  null|   null|    null|  null|   null|   null|null|null|null|null|null| null|    2| null|    2| null|    2|    null|    2| null|    2|    null|    2| null|    2| null|   1| null| null|    1|  01|\n",
      "|2020| 11|     11|   null|   04|    4|   05|    1|1110011|110015970|    1|    1|157421|138.2562412| 188.5220646|  1113|  02|   05|    03|    03|  1994| 026|   1|   4|   5|    2|    2|    2|    2|    2|    2|    2|    2|    2|     2|     2|     2|null| null| null| null| null| null| null| null| null| null| null| null| null| null|null|null|   2|   2|   2|null|null|null| null| null| null|null|null| null| null| null| null| null|  null|  null|null|null|null| null|  null|    null| null|  null|  null| null| null| null|  null|   null|    null|  null|   null|   null|null|null|   2|   1|null| null|    2| null|    2| null|    2|    null|    2| null|    2|    null|    2| null|    2| null|   1| null| null|    1|  01|\n",
      "|2020| 11|     11|   null|   04|    4|   05|    1|1110011|110015970|    1|    1|146160|138.2562412|191.78621375|  1112|  05|   05|    99|    99|  9999| 014|   1|   3|   2|    2|    2|    2|    2|    2|    2|    2|    2|    2|     2|     2|     2|null| null| null| null| null| null| null| null| null| null| null| null| null| null|null|null|   2|   2|   2|null|null|null| null| null| null|null|null| null| null| null| null| null|  null|  null|null|null|null| null|  null|    null| null|  null|  null| null| null| null|  null|   null|    null|  null|   null|   null|null|null|   2|   1|null| null|    2| null|    2| null|    2|    null|    2| null|    2|    null|    2| null|    2| null|   1| null| null|    1|  01|\n",
      "|2020| 11|     11|   null|   04|    4|   05|    1|1110011|110015970|    1|    1|139963|138.2562412|155.44750627|  1122|  04|   05|    99|    99|  9999| 015|   2|   4|   2|    2|    2|    2|    2|    2|    2|    2|    2|    2|     2|     2|     2|null| null| null| null| null| null| null| null| null| null| null| null| null| null|null|null|   2|   2|   2|null|null|null| null| null| null|null|null| null| null| null| null| null|  null|  null|null|null|null| null|  null|    null| null|  null|  null| null| null| null|  null|   null|    null|  null|   null|   null|null|null|   2|   2|  04|    2|    2| null|    2| null|    2|    null|    2| null|    2|    null|    2| null|    2| null|   1| null| null|    1|  01|\n",
      "|2020| 11|     11|   null|   05|    3|   05|    1|1110011|110015970|    1|    1| 55619|138.2562412|138.18022469|  1117|  01|   01|    25|    05|  1958| 061|   1|   4|   1|    2|    2|    2|    2|    2|    2|    2|    2|    2|     2|     2|     2|null| null| null| null| null| null| null| null| null| null| null| null| null| null|null|null|   2|   2|   2|null|null|null| null| null| null|null|null| null| null| null| null| null|  null|  null|null|null|null| null|  null|    null| null|  null|  null| null| null| null|  null|   null|    null|  null|   null|   null|null|null|   2|   1|null| null|    2| null|    2| null|    2|    null|    2| null|    1|00000600|    2| null|    2| null|   5| null| null|    1|  02|\n",
      "|2020| 11|     11|   null|   05|    3|   05|    1|1110011|110015970|    1|    1| 54453|138.2562412|123.65996525|  1127|  02|   02|    31|    03|  1958| 062|   2|   4|   2|    2|    2|    2|    2|    1|    2|    2|    2|    2|     2|     2|     2|   2|    2|    2|    1|    2|    2|    2|    2| null| null| null| null| null| null|null|null|   2|   1|null|null|null|null| null| null| null|   2|  01| null|    3|   01|   24| null|  null|  null| 021| 021|   1|    1|    02|00000600| null|  null|  null| null| null|    1|     1|     02|00000500|  null|   null|   null|   1|null|   2|null|null| null|    2| null|    2| null|    2|    null|    2| null|    1|00000600|    2| null|    2| null|   5| null| null|    1|  02|\n",
      "|2020| 11|     11|   null|   06|    2|   05|    1|1110011|110015970|    1|    1| 90903|138.2562412|144.13492924|  1126|  01|   01|    01|    11|  1963| 056|   2|   4|   2|    2|    2|    2|    1|    2|    2|    2|    2|    2|     2|     2|     2|   2|    1|    2|    2|    1|    2|    2|    2| null| null| null| null| null| null|null|null|   2|   2|   2|null|null|null| null| null| null|null|null| null| null| null| null| null|  null|  null|null|null|null| null|  null|    null| null|  null|  null| null| null| null|  null|   null|    null|  null|   null|   null|null|null|   2|   2|  08|    1|    2| null|    2| null|    2|    null|    2| null|    1|00001200|    2| null|    2| null|   1| null| null|    1|  01|\n",
      "|2020| 11|     11|   null|   06|    2|   05|    1|1110011|110015970|    1|    1| 95096|138.2562412|152.14891587|  1116|  02|   02|    29|    05|  1967| 052|   1|   2|   2|    2|    2|    2|    2|    2|    2|    2|    2|    2|     2|     2|     2|null| null| null| null| null| null| null| null| null| null| null| null| null| null|null|null|   2|   1|null|null|null|null| null| null| null|   2|  07| null| null|   18|   05| null|  null|  null| 040| 040|   1|    1|    04|00001200| null|  null|  null| null| null|    1|     1|     04|00001000|  null|   null|   null|   1|null|   2|null|null| null|    2| null|    2| null|    2|    null|    2| null|    1|00001200|    2| null|    2| null|   1| null| null|    1|  01|\n",
      "|2020| 11|     11|   null|   06|    2|   05|    1|1110011|110015970|    1|    1|139963|138.2562412|155.44750627|  1122|  03|   04|    20|    12|  2002| 017|   2|   1|   4|    2|    2|    2|    2|    2|    2|    2|    2|    2|     2|     2|     2|null| null| null| null| null| null| null| null| null| null| null| null| null| null|null|null|   2|   2|   2|null|null|null| null| null| null|null|null| null| null| null| null| null|  null|  null|null|null|null| null|  null|    null| null|  null|  null| null| null| null|  null|   null|    null|  null|   null|   null|null|null|   2|   2|  03|    2|    2| null|    2| null|    2|    null|    2| null|    1|00001200|    2| null|    2| null|   1| null| null|    1|  01|\n",
      "+----+---+-------+-------+-----+-----+-----+-----+-------+---------+-----+-----+------+-----------+------------+------+----+-----+------+------+------+----+----+----+----+-----+-----+-----+-----+-----+-----+-----+-----+-----+------+------+------+----+-----+-----+-----+-----+-----+-----+-----+-----+-----+-----+-----+-----+-----+----+----+----+----+----+----+----+----+-----+-----+-----+----+----+-----+-----+-----+-----+-----+------+------+----+----+----+-----+------+--------+-----+------+------+-----+-----+-----+------+-------+--------+------+-------+-------+----+----+----+----+----+-----+-----+-----+-----+-----+-----+--------+-----+-----+-----+--------+-----+-----+-----+-----+----+-----+-----+-----+----+\n",
      "only showing top 20 rows\n",
      "\n"
     ]
    }
   ],
   "source": [
    "df.show()"
   ]
  },
  {
   "cell_type": "markdown",
   "metadata": {},
   "source": [
    "## BigQuery links\n",
    "\n",
    "- [BigQuery Table](https://console.cloud.google.com/bigquery?hl=pt-br&project=fiap-tech-challenge-3&ws=!1m0)\n",
    "- [Storage](https://console.cloud.google.com/storage/browser/tech-challenge;tab=configuration?hl=pt-br&project=fiap-tech-challenge-3&prefix=&forceOnObjectsSortingFiltering=false)"
   ]
  },
  {
   "cell_type": "code",
   "execution_count": 6,
   "metadata": {},
   "outputs": [],
   "source": [
    "# Write a PySpark DataFrame to a BigQuery table\n",
    "destination_table = \"fiap-tech-challenge-3.pnad.covid_2020\"\n",
    "gcs_bucket =  'tech-challenge'\n",
    "df.write\\\n",
    "    .format(\"bigquery\")\\\n",
    "    .option(\"temporaryGcsBucket\", gcs_bucket)\\\n",
    "    .option(\"credentialsFile\",os.environ[\"GOOGLE_APPLICATION_CREDENTIALS\"])\\\n",
    "    .option(\"project\", \"fiap-tech-challenge-3\")\\\n",
    "    .option(\"parentProject\", \"fiap-tech-challenge-3\")\\\n",
    "    .option('dataset', 'pnad')\\\n",
    "    .option(\"table\", \"covid_2020\")\\\n",
    "    .mode(\"overwrite\")\\\n",
    "    .save()\n"
   ]
  },
  {
   "cell_type": "code",
   "execution_count": 7,
   "metadata": {},
   "outputs": [
    {
     "name": "stdout",
     "output_type": "stream",
     "text": [
      "+----+---+-------+-------+-----+-----+-----+-----+-------+---------+-----+-----+------+------------+------------+------+----+-----+------+------+------+----+----+----+----+-----+-----+-----+-----+-----+-----+-----+-----+-----+------+------+------+----+-----+-----+-----+-----+-----+-----+-----+-----+-----+-----+-----+-----+-----+----+----+----+----+----+----+----+----+-----+-----+-----+----+----+-----+-----+-----+-----+-----+------+------+----+----+----+-----+------+------+-----+------+------+-----+-----+-----+------+-------+-------+------+-------+-------+----+----+----+----+----+-----+-----+-----+-----+-----+-----+-----+-----+-----+-----+-----+-----+-----+-----+-----+----+-----+-----+-----+----+\n",
      "| Ano| UF|CAPITAL|RM_RIDE|V1008|V1012|V1013|V1016|Estrato|      UPA|V1022|V1023| V1030|       V1031|       V1032|posest|A001|A001A|A001B1|A001B2|A001B3|A002|A003|A004|A005|B0011|B0012|B0013|B0014|B0015|B0016|B0017|B0018|B0019|B00110|B00111|B00112|B002|B0031|B0032|B0033|B0034|B0035|B0036|B0037|B0041|B0042|B0043|B0044|B0045|B0046|B005|B006|B007|C001|C002|C003|C004|C005|C0051|C0052|C0053|C006|C007|C007A|C007B|C007C|C007D|C007E|C007E1|C007E2|C008|C009|C010|C0101|C01011|C01012|C0102|C01021|C01022|C0103|C0104|C011A|C011A1|C011A11|C011A12|C011A2|C011A21|C011A22|C012|C013|C014|C015|C016|C017A|D0011|D0013|D0021|D0023|D0031|D0033|D0041|D0043|D0051|D0053|D0061|D0063|D0071|D0073|F001|F0021|F0022|F0061|F006|\n",
      "+----+---+-------+-------+-----+-----+-----+-----+-------+---------+-----+-----+------+------------+------------+------+----+-----+------+------+------+----+----+----+----+-----+-----+-----+-----+-----+-----+-----+-----+-----+------+------+------+----+-----+-----+-----+-----+-----+-----+-----+-----+-----+-----+-----+-----+-----+----+----+----+----+----+----+----+----+-----+-----+-----+----+----+-----+-----+-----+-----+-----+------+------+----+----+----+-----+------+------+-----+------+------+-----+-----+-----+------+-------+-------+------+-------+-------+----+----+----+----+----+-----+-----+-----+-----+-----+-----+-----+-----+-----+-----+-----+-----+-----+-----+-----+----+-----+-----+-----+----+\n",
      "|2020| 11|     11|   null|   01|    1|   11|    7|1110020|110026070|    2|    1| 92377|160.42909091|159.98726921|  1126|  01|   01|    15|    12|  1965| 054|   2|   4|   3| null| null| null| null| null| null| null|    9|    9|     9|     9|     9|   9|    9|    9|    9|    9|    9|    9|    9| null| null| null| null| null| null|null|null|null|null|null|null|null|null| null| null|    9|   9|null| null| null| null| null| null|     9|     9|   9|   9|   9|    9|     2|     2|    2|  null|  null| null| null| null|  null|   null|   null|  null|   null|   null|null|null|null|null|null| null| null| null| null| null| null| null| null| null| null| null| null| null| null| null|null| null| null| null|null|\n",
      "|2020| 11|     11|   null|   01|    1|   11|    7|1110020|110026070|    2|    1| 96145|160.42909091|175.10591906|  1116|  02|   02|    31|    08|  1963| 057|   1|   4|   5| null| null| null| null| null| null| null|    9|    9|     9|     9|     9|   9|    9|    9|    9|    9|    9|    9|    9| null| null| null| null| null| null|null|null|null|null|null|null|null|null| null| null|    9|   9|null| null| null| null| null| null|     9|     9|   9|   9|   9|    9|     9|     2|    2|  null|  null| null| null| null|  null|   null|   null|  null|   null|   null|null|null|null|null|null| null| null| null| null| null| null| null| null| null| null| null| null| null| null| null|null| null| null| null|null|\n",
      "|2020| 11|     11|   null|   01|    1|   11|    7|1110020|110026070|    2|    1|144737|160.42909091|208.63056509|  1112|  04|   10|    21|    11|  2001| 018|   1|   4|   5|    2| null| null| null| null| null| null|    9|    9|     9|     9|     9|   9|    9|    9|    9|    9|    9|    9|    9| null| null| null| null| null| null|null|null|null|null|null|null|null|null| null| null|    9|   9|null| null| null| null| null| null|     9|     9|   9|   9|   9|    9|     9|     2|    2|  null|  null| null| null| null|  null|   null|   null|  null|   null|   null|null|null|null|null|null| null| null| null| null| null| null| null| null| null| null| null| null| null| null| null|null| null| null| null|null|\n",
      "|2020| 11|     11|   null|   01|    1|   11|    7|1110020|110026070|    2|    1|150835|160.42909091|199.72092801|  1124|  03|   04|    19|    09|  1989| 031|   2|   4|   1| null| null| null| null| null| null| null|    9|    9|     9|     9|     9|   9|    9|    9|    9|    9|    9|    9|    9| null| null| null| null| null| null|null|null|null|null|null|null|null|null| null| null|    9|   9|null| null| null| null| null| null|     9|     9|   9|   9|   9|    9|     9|     2|    2|  null|  null| null| null| null|  null|   null|   null|  null|   null|   null|null|null|null|null|null| null| null| null| null| null| null| null| null| null| null| null| null| null| null| null|null| null| null| null|null|\n",
      "|2020| 11|     11|   null|   01|    1|   11|    7|1110020|110026070|    2|    1|138562|160.42909091|187.34035545|  1122|  05|   10|    11|    04|  2009| 011|   2|   4|   2|    2| null| null| null| null| null| null|    9|    9|     9|     9|     9|   9|    9|    9|    9|    9|    9|    9|    9| null| null| null| null| null| null|null|null|null|null|null|null|null|null| null| null|    9|   9|null| null| null| null| null| null|     9|     9|   9|   9|   9|    9|     9|  null| null|  null|  null| null| null| null|  null|   null|   null|  null|   null|   null|null|null|null|null|null| null| null| null| null| null| null| null| null| null| null| null| null| null| null| null|null| null| null| null|null|\n",
      "|2020| 11|   null|   null|   07|    2|   11|    7|1152011|110019297|    1|    4|126166|170.87351648|165.53916876|  1125|  01|   01|    10|    06|  1975| 045|   2|   1|   7| null| null| null| null| null| null| null|    9|    9|     9|     9|     9|   9|    9|    9|    9|    9|    9|    9|    9| null| null| null| null| null| null|null|null|null|null|null|null|null|null| null| null|    9|   9|null| null| null| null| null| null|     9|     9|   9|   9|   9|    9|     9|     2|    2|  null|  null| null| null| null|  null|   null|   null|  null|   null|   null|null|null|null|null|null| null| null| null| null| null| null| null| null| null| null| null| null| null| null| null|null| null| null| null|null|\n",
      "|2020| 11|   null|   null|   10|    1|   11|    7|1152012|110001854|    1|    4| 92377|258.25194205|257.54071623|  1126|  01|   01|    16|    07|  1966| 054|   2|   4|   7| null| null| null| null| null| null| null|    9|    9|     9|     9|     9|   9|    9|    9|    9|    9|    9|    9|    9| null| null| null| null| null| null|null|null|null|null|null|null|null|null| null| null|    9|   9|null| null| null| null| null| null|     9|     9|   9|   9|   9|    9|     9|     2|    2|  null|  null| null| null| null|  null|   null|   null|  null|   null|   null|null|null|null|null|null| null| null| null| null| null| null| null| null| null| null| null| null| null| null| null|null| null| null| null|null|\n",
      "|2020| 11|   null|   null|   10|    1|   11|    7|1152012|110001854|    1|    4| 56976|258.25194205|255.04730996|  1117|  02|   02|    08|    10|  1952| 068|   1|   4|   5| null| null| null| null| null| null| null|    9|    9|     9|     9|     9|   9|    9|    9|    9|    9|    9|    9|    9| null| null| null| null| null| null|null|null|null|null|null|null|null|null| null| null|    9|   9|null| null| null| null| null| null|     9|     9|   9|   9|   9|    9|     9|     2|    2|  null|  null| null| null| null|  null|   null|   null|  null|   null|   null|null|null|null|null|null| null| null| null| null| null| null| null| null| null| null| null| null| null| null| null|null| null| null| null|null|\n",
      "|2020| 11|   null|   null|   10|    2|   11|    7|1152013|110017062|    1|    4|152902|425.01065761|494.23315224|  1114|  01|   01|    07|    03|  1988| 032|   1|   4|   2| null| null| null| null| null| null| null|    9|    9|     9|     9|     9|   9|    9|    9|    9|    9|    9|    9|    9| null| null| null| null| null| null|null|null|null|null|null|null|null|null| null| null|    9|   9|null| null| null| null| null| null|     9|     9|   9|   9|   9|    9|     9|     2|    2|  null|  null| null| null| null|  null|   null|   null|  null|   null|   null|null|null|null|null|null| null| null| null| null| null| null| null| null| null| null| null| null| null| null| null|null| null| null| null|null|\n",
      "|2020| 11|   null|   null|   10|    2|   11|    7|1152013|110017062|    1|    4|154406|425.01065761|516.96043526|  1123|  02|   02|    29|    12|  1996| 023|   2|   4|   4|    2| null| null| null| null| null| null|    9|    9|     9|     9|     9|   9|    9|    9|    9|    9|    9|    9|    9| null| null| null| null| null| null|null|null|null|null|null|null|null|null| null| null|    9|   9|null| null| null| null| null| null|     9|     9|   9|   9|   9|    9|     9|     2|    2|  null|  null| null| null| null|  null|   null|   null|  null|   null|   null|null|null|null|null|null| null| null| null| null| null| null| null| null| null| null| null| null| null| null| null|null| null| null| null|null|\n",
      "|2020| 11|   null|   null|   10|    2|   11|    7|1152013|110017062|    1|    4|140617|425.01065761|558.40728468|  1111|  03|   04|    04|    11|  2012| 008|   1|   4|   1|    2| null| null| null| null| null| null|    9|    9|     9|     9|     9|   9|    9|    9|    9|    9|    9|    9|    9| null| null| null| null| null| null|null|null|null|null|null|null|null|null| null| null|    9|   9|null| null| null| null| null| null|     9|     9|   9|   9|   9|    9|     9|  null| null|  null|  null| null| null| null|  null|   null|   null|  null|   null|   null|null|null|null|null|null| null| null| null| null| null| null| null| null| null| null| null| null| null| null| null|null| null| null| null|null|\n",
      "|2020| 11|   null|   null|   10|    2|   11|    7|1152013|110017062|    1|    4|140617|425.01065761|558.40728468|  1111|  04|   04|    24|    04|  2018| 002|   1|   4|   1| null| null| null| null| null| null| null|    9|    9|     9|     9|     9|   9|    9|    9|    9|    9|    9|    9|    9| null| null| null| null| null| null|null|null|null|null|null|null|null|null| null| null|    9|   9|null| null| null| null| null| null|     9|     9|   9|   9|   9|    9|     9|  null| null|  null|  null| null| null| null|  null|   null|   null|  null|   null|   null|null|null|null|null|null| null| null| null| null| null| null| null| null| null| null| null| null| null| null| null|null| null| null| null|null|\n",
      "|2020| 11|   null|   null|   09|    3|   11|    7|1152021|110001674|    2|    4| 92377|232.11662556| 231.4773764|  1126|  01|   01|    16|    10|  1966| 054|   2|   4|   2| null| null| null| null| null| null| null|    9|    9|     9|     9|     9|   9|    9|    9|    9|    9|    9|    9|    9| null| null| null| null| null| null|null|null|null|null|null|null|null|null| null| null|    9|   9|null| null| null| null| null| null|     9|     9|   9|   9|   9|    9|     9|     2|    2|  null|  null| null| null| null|  null|   null|   null|  null|   null|   null|null|null|null|null|null| null| null| null| null| null| null| null| null| null| null| null| null| null| null| null|null| null| null| null|null|\n",
      "|2020| 11|   null|   null|   09|    3|   11|    7|1152021|110001674|    2|    4|157628|232.11662556|311.08383698|  1113|  02|   05|    22|    11|  1990| 029|   1|   4|   2|    2| null| null| null| null| null| null|    9|    9|     9|     9|     9|   9|    9|    9|    9|    9|    9|    9|    9| null| null| null| null| null| null|null|null|null|null|null|null|null|null| null| null|    9|   9|null| null| null| null| null| null|     9|     9|   9|   9|   9|    9|     9|     2|    2|  null|  null| null| null| null|  null|   null|   null|  null|   null|   null|null|null|null|null|null| null| null| null| null| null| null| null| null| null| null| null| null| null| null| null|null| null| null| null|null|\n",
      "|2020| 11|   null|   null|   09|    3|   11|    7|1152021|110001674|    2|    4|154406|232.11662556|282.33435947|  1123|  03|   07|    16|    11|  1995| 025|   2|   4|   5|    2| null| null| null| null| null| null|    9|    9|     9|     9|     9|   9|    9|    9|    9|    9|    9|    9|    9| null| null| null| null| null| null|null|null|null|null|null|null|null|null| null| null|    9|   9|null| null| null| null| null| null|     9|     9|   9|   9|   9|    9|     9|     2|    2|  null|  null| null| null| null|  null|   null|   null|  null|   null|   null|null|null|null|null|null| null| null| null| null| null| null| null| null| null| null| null| null| null| null| null|null| null| null| null|null|\n",
      "|2020| 11|   null|   null|   09|    3|   11|    7|1152021|110001674|    2|    4|140617|232.11662556|304.97026907|  1111|  04|   10|    05|    05|  2012| 008|   1|   4|   2|    2| null| null| null| null| null| null|    9|    9|     9|     9|     9|   9|    9|    9|    9|    9|    9|    9|    9| null| null| null| null| null| null|null|null|null|null|null|null|null|null| null| null|    9|   9|null| null| null| null| null| null|     9|     9|   9|   9|   9|    9|     9|  null| null|  null|  null| null| null| null|  null|   null|   null|  null|   null|   null|null|null|null|null|null| null| null| null| null| null| null| null| null| null| null| null| null| null| null| null|null| null| null| null|null|\n",
      "|2020| 11|   null|   null|   09|    3|   11|    7|1152021|110001674|    2|    4|140617|232.11662556|304.97026907|  1111|  05|   10|    08|    09|  2013| 007|   1|   1|   2|    2| null| null| null| null| null| null|    9|    9|     9|     9|     9|   9|    9|    9|    9|    9|    9|    9|    9| null| null| null| null| null| null|null|null|null|null|null|null|null|null| null| null|    9|   9|null| null| null| null| null| null|     9|     9|   9|   9|   9|    9|     9|  null| null|  null|  null| null| null| null|  null|   null|   null|  null|   null|   null|null|null|null|null|null| null| null| null| null| null| null| null| null| null| null| null| null| null| null| null|null| null| null| null|null|\n",
      "|2020| 11|   null|   null|   06|    1|   11|    7|1152022|110013199|    2|    4|150835|197.19698443|245.49390954|  1124|  01|   01|    13|    08|  1990| 030|   2|   4|   5| null| null| null| null| null| null| null|    9|    9|     9|     9|     9|   9|    9|    9|    9|    9|    9|    9|    9| null| null| null| null| null| null|null|null|null|null|null|null|null|null| null| null|    9|   9|null| null| null| null| null| null|     9|     9|   9|   9|   9|    9|     9|     2|    2|  null|  null| null| null| null|  null|   null|   null|  null|   null|   null|null|null|null|null|null| null| null| null| null| null| null| null| null| null| null| null| null| null| null| null|null| null| null| null|null|\n",
      "|2020| 11|   null|   null|   06|    1|   11|    7|1152022|110013199|    2|    4|134209|197.19698443|251.05175185|  1121|  02|   05|    12|    08|  2011| 009|   2|   4|   2|    2| null| null| null| null| null| null|    9|    9|     9|     9|     9|   9|    9|    9|    9|    9|    9|    9|    9| null| null| null| null| null| null|null|null|null|null|null|null|null|null| null| null|    9|   9|null| null| null| null| null| null|     9|     9|   9|   9|   9|    9|     9|  null| null|  null|  null| null| null| null|  null|   null|   null|  null|   null|   null|null|null|null|null|null| null| null| null| null| null| null| null| null| null| null| null| null| null| null| null|null| null| null| null|null|\n",
      "|2020| 11|   null|   null|   06|    1|   11|    7|1152022|110013199|    2|    4|140617|197.19698443| 259.0905208|  1111|  03|   05|    26|    04|  2013| 007|   1|   4|   2|    2| null| null| null| null| null| null|    9|    9|     9|     9|     9|   9|    9|    9|    9|    9|    9|    9|    9| null| null| null| null| null| null|null|null|null|null|null|null|null|null| null| null|    9|   9|null| null| null| null| null| null|     9|     9|   9|   9|   9|    9|     9|  null| null|  null|  null| null| null| null|  null|   null|   null|  null|   null|   null|null|null|null|null|null| null| null| null| null| null| null| null| null| null| null| null| null| null| null| null|null| null| null| null|null|\n",
      "+----+---+-------+-------+-----+-----+-----+-----+-------+---------+-----+-----+------+------------+------------+------+----+-----+------+------+------+----+----+----+----+-----+-----+-----+-----+-----+-----+-----+-----+-----+------+------+------+----+-----+-----+-----+-----+-----+-----+-----+-----+-----+-----+-----+-----+-----+----+----+----+----+----+----+----+----+-----+-----+-----+----+----+-----+-----+-----+-----+-----+------+------+----+----+----+-----+------+------+-----+------+------+-----+-----+-----+------+-------+-------+------+-------+-------+----+----+----+----+----+-----+-----+-----+-----+-----+-----+-----+-----+-----+-----+-----+-----+-----+-----+-----+----+-----+-----+-----+----+\n",
      "only showing top 20 rows\n",
      "\n"
     ]
    }
   ],
   "source": [
    "# Read data from a BigQuery table into a PySpark DataFrame\n",
    "table_name = \"fiap-tech-challenge-3.pnad.covid_2020\"\n",
    "df = spark.read \\\n",
    "    .format(\"bigquery\") \\\n",
    "    .option(\"table\", table_name) \\\n",
    "    .load()\n",
    "\n",
    "# Perform operations on the DataFrame as needed\n",
    "df.show()\n"
   ]
  }
 ],
 "metadata": {
  "kernelspec": {
   "display_name": "Python 3 (ipykernel)",
   "language": "python",
   "name": "python3"
  },
  "language_info": {
   "codemirror_mode": {
    "name": "ipython",
    "version": 3
   },
   "file_extension": ".py",
   "mimetype": "text/x-python",
   "name": "python",
   "nbconvert_exporter": "python",
   "pygments_lexer": "ipython3",
   "version": "3.10.4"
  }
 },
 "nbformat": 4,
 "nbformat_minor": 4
}
