{
 "cells": [
  {
   "cell_type": "code",
   "execution_count": 1,
   "metadata": {},
   "outputs": [
    {
     "name": "stderr",
     "output_type": "stream",
     "text": [
      "your 131072x1 screen size is bogus. expect trouble\n",
      "23/10/09 18:18:49 WARN Utils: Your hostname, DESKTOP-3F0JU57 resolves to a loopback address: 127.0.1.1; using 172.22.79.248 instead (on interface eth0)\n",
      "23/10/09 18:18:49 WARN Utils: Set SPARK_LOCAL_IP if you need to bind to another address\n",
      "23/10/09 18:18:51 WARN NativeCodeLoader: Unable to load native-hadoop library for your platform... using builtin-java classes where applicable\n",
      "Setting default log level to \"WARN\".\n",
      "To adjust logging level use sc.setLogLevel(newLevel). For SparkR, use setLogLevel(newLevel).\n"
     ]
    }
   ],
   "source": [
    "from _spark import *\n",
    "import os\n",
    "\n",
    "import findspark\n",
    "findspark.init()\n",
    "\n",
    "spark = get_spark()"
   ]
  },
  {
   "cell_type": "code",
   "execution_count": 2,
   "metadata": {},
   "outputs": [
    {
     "name": "stderr",
     "output_type": "stream",
     "text": [
      "                                                                                \r"
     ]
    }
   ],
   "source": [
    "df = spark\\\n",
    "    .read\\\n",
    "    .option('delimiter',',')\\\n",
    "    .option('header',True)\\\n",
    "    .option('inferSchema',True)\\\n",
    "    .csv('../data/raw')"
   ]
  },
  {
   "cell_type": "code",
   "execution_count": 3,
   "metadata": {},
   "outputs": [],
   "source": [
    "from transformations import transform"
   ]
  },
  {
   "cell_type": "code",
   "execution_count": 4,
   "metadata": {},
   "outputs": [],
   "source": [
    "df2 = transform(df)"
   ]
  },
  {
   "cell_type": "code",
   "execution_count": 5,
   "metadata": {},
   "outputs": [
    {
     "name": "stderr",
     "output_type": "stream",
     "text": [
      "                                                                                \r"
     ]
    },
    {
     "data": {
      "text/plain": [
       "[Row(uf='Rondônia', semana_mes=4, mes=9, area_domicilio='Urbana', idade=36, sexo='masculino', cor_raca='Parda', escolaridade='Médio completo', teve_febre='Não ', teve_dificuldade_respirar='Não ', teve_dor_cabeca='Não ', teve_fadiga='Não ', teve_perda_cheiro='Não ', foi_posto_saude='NA', ficou_em_casa='NA', ficou_internado='NA', tem_plano_saude='Sim', assalariado='Sim, tem carteira de trabalho assinada', faixa_rendimento='801 - 1.600', situacao_domicilio='Próprio - já pago '),\n",
       " Row(uf='Rondônia', semana_mes=4, mes=9, area_domicilio='Urbana', idade=30, sexo='feminino', cor_raca='Parda', escolaridade='Superior completo', teve_febre='Não ', teve_dificuldade_respirar='Não ', teve_dor_cabeca='Não ', teve_fadiga='Não ', teve_perda_cheiro='Não ', foi_posto_saude='NA', ficou_em_casa='NA', ficou_internado='NA', tem_plano_saude='Não ', assalariado='NA', faixa_rendimento='801 - 1.600', situacao_domicilio='Próprio - já pago '),\n",
       " Row(uf='Rondônia', semana_mes=4, mes=9, area_domicilio='Urbana', idade=13, sexo='masculino', cor_raca='Parda', escolaridade='Fundamental incompleto', teve_febre='Não ', teve_dificuldade_respirar='Não ', teve_dor_cabeca='Não ', teve_fadiga='Não ', teve_perda_cheiro='Não ', foi_posto_saude='NA', ficou_em_casa='NA', ficou_internado='NA', tem_plano_saude='Sim', assalariado='NA', faixa_rendimento='NA', situacao_domicilio='Próprio - já pago '),\n",
       " Row(uf='Rondônia', semana_mes=4, mes=9, area_domicilio='Urbana', idade=11, sexo='masculino', cor_raca='Parda', escolaridade='Fundamental incompleto', teve_febre='Não ', teve_dificuldade_respirar='Não ', teve_dor_cabeca='Não ', teve_fadiga='Não ', teve_perda_cheiro='Não ', foi_posto_saude='NA', ficou_em_casa='NA', ficou_internado='NA', tem_plano_saude='Sim', assalariado='NA', faixa_rendimento='NA', situacao_domicilio='Próprio - já pago '),\n",
       " Row(uf='Rondônia', semana_mes=1, mes=9, area_domicilio='Urbana', idade=57, sexo='feminino', cor_raca='Branca', escolaridade='Fundamental incompleto', teve_febre='Não ', teve_dificuldade_respirar='Não ', teve_dor_cabeca='Não ', teve_fadiga='Não ', teve_perda_cheiro='Não ', foi_posto_saude='NA', ficou_em_casa='NA', ficou_internado='NA', tem_plano_saude='Não ', assalariado='NA', faixa_rendimento='NA', situacao_domicilio='Próprio - já pago ')]"
      ]
     },
     "execution_count": 5,
     "metadata": {},
     "output_type": "execute_result"
    }
   ],
   "source": [
    "df2.head(5)"
   ]
  }
 ],
 "metadata": {
  "kernelspec": {
   "display_name": "venv",
   "language": "python",
   "name": "python3"
  },
  "language_info": {
   "codemirror_mode": {
    "name": "ipython",
    "version": 3
   },
   "file_extension": ".py",
   "mimetype": "text/x-python",
   "name": "python",
   "nbconvert_exporter": "python",
   "pygments_lexer": "ipython3",
   "version": "3.10.12"
  },
  "orig_nbformat": 4
 },
 "nbformat": 4,
 "nbformat_minor": 2
}
