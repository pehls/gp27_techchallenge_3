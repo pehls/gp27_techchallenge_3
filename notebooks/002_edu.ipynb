{
 "cells": [
  {
   "cell_type": "code",
   "execution_count": 2,
   "metadata": {},
   "outputs": [],
   "source": [
    "from _spark import *\n",
    "import os\n",
    "\n",
    "import findspark\n",
    "findspark.init()\n",
    "\n",
    "spark = get_spark()"
   ]
  },
  {
   "cell_type": "code",
   "execution_count": 3,
   "metadata": {},
   "outputs": [],
   "source": [
    "df = spark\\\n",
    "    .read\\\n",
    "    .option('delimiter',',')\\\n",
    "    .option('header',True)\\\n",
    "    .option('inferSchema',True)\\\n",
    "    .csv('../data/raw')"
   ]
  },
  {
   "cell_type": "code",
   "execution_count": 3,
   "metadata": {},
   "outputs": [],
   "source": [
    "from transformations import transform"
   ]
  },
  {
   "cell_type": "code",
   "execution_count": 4,
   "metadata": {},
   "outputs": [],
   "source": [
    "df2 = transform(df)"
   ]
  },
  {
   "cell_type": "code",
   "execution_count": 5,
   "metadata": {},
   "outputs": [
    {
     "name": "stderr",
     "output_type": "stream",
     "text": [
      "                                                                                \r"
     ]
    },
    {
     "data": {
      "text/plain": [
       "[Row(uf='Rondônia', semana_mes=4, mes=9, area_domicilio='Urbana', idade=36, sexo='masculino', cor_raca='Parda', escolaridade='Médio completo', teve_febre='Não ', teve_dificuldade_respirar='Não ', teve_dor_cabeca='Não ', teve_fadiga='Não ', teve_perda_cheiro='Não ', foi_posto_saude='NA', ficou_em_casa='NA', ficou_internado='NA', tem_plano_saude='Sim', assalariado='Sim, tem carteira de trabalho assinada', faixa_rendimento='801 - 1.600', situacao_domicilio='Próprio - já pago '),\n",
       " Row(uf='Rondônia', semana_mes=4, mes=9, area_domicilio='Urbana', idade=30, sexo='feminino', cor_raca='Parda', escolaridade='Superior completo', teve_febre='Não ', teve_dificuldade_respirar='Não ', teve_dor_cabeca='Não ', teve_fadiga='Não ', teve_perda_cheiro='Não ', foi_posto_saude='NA', ficou_em_casa='NA', ficou_internado='NA', tem_plano_saude='Não ', assalariado='NA', faixa_rendimento='801 - 1.600', situacao_domicilio='Próprio - já pago '),\n",
       " Row(uf='Rondônia', semana_mes=4, mes=9, area_domicilio='Urbana', idade=13, sexo='masculino', cor_raca='Parda', escolaridade='Fundamental incompleto', teve_febre='Não ', teve_dificuldade_respirar='Não ', teve_dor_cabeca='Não ', teve_fadiga='Não ', teve_perda_cheiro='Não ', foi_posto_saude='NA', ficou_em_casa='NA', ficou_internado='NA', tem_plano_saude='Sim', assalariado='NA', faixa_rendimento='NA', situacao_domicilio='Próprio - já pago '),\n",
       " Row(uf='Rondônia', semana_mes=4, mes=9, area_domicilio='Urbana', idade=11, sexo='masculino', cor_raca='Parda', escolaridade='Fundamental incompleto', teve_febre='Não ', teve_dificuldade_respirar='Não ', teve_dor_cabeca='Não ', teve_fadiga='Não ', teve_perda_cheiro='Não ', foi_posto_saude='NA', ficou_em_casa='NA', ficou_internado='NA', tem_plano_saude='Sim', assalariado='NA', faixa_rendimento='NA', situacao_domicilio='Próprio - já pago '),\n",
       " Row(uf='Rondônia', semana_mes=1, mes=9, area_domicilio='Urbana', idade=57, sexo='feminino', cor_raca='Branca', escolaridade='Fundamental incompleto', teve_febre='Não ', teve_dificuldade_respirar='Não ', teve_dor_cabeca='Não ', teve_fadiga='Não ', teve_perda_cheiro='Não ', foi_posto_saude='NA', ficou_em_casa='NA', ficou_internado='NA', tem_plano_saude='Não ', assalariado='NA', faixa_rendimento='NA', situacao_domicilio='Próprio - já pago ')]"
      ]
     },
     "execution_count": 5,
     "metadata": {},
     "output_type": "execute_result"
    }
   ],
   "source": [
    "_display(df2, 5)"
   ]
  }
 ],
 "metadata": {
  "kernelspec": {
   "display_name": "venv",
   "language": "python",
   "name": "python3"
  },
  "language_info": {
   "codemirror_mode": {
    "name": "ipython",
    "version": 3
   },
   "file_extension": ".py",
   "mimetype": "text/x-python",
   "name": "python",
   "nbconvert_exporter": "python",
   "pygments_lexer": "ipython3",
   "version": "3.10.4"
  },
  "orig_nbformat": 4
 },
 "nbformat": 4,
 "nbformat_minor": 2
}
